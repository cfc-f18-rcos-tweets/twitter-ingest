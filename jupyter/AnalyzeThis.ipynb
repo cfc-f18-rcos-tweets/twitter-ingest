{
 "cells": [
  {
   "cell_type": "code",
   "execution_count": 6,
   "metadata": {},
   "outputs": [],
   "source": [
    "import pandas as pd\n",
    "import json\n",
    "from collections import OrderedDict\n",
    "from itertools import groupby\n",
    "from datetime import datetime\n",
    "from pymongo import MongoClient"
   ]
  },
  {
   "cell_type": "code",
   "execution_count": 7,
   "metadata": {},
   "outputs": [],
   "source": [
    "# Connect\n",
    "client = MongoClient(\"mongodb://mongo:27017\")\n",
    "\n",
    "# Connect to `inspector_restaurant` database\n",
    "db = client['ibm_hackathon_database']"
   ]
  },
  {
   "cell_type": "code",
   "execution_count": 8,
   "metadata": {
    "scrolled": true
   },
   "outputs": [
    {
     "name": "stdout",
     "output_type": "stream",
     "text": [
      "Wrote dummy to MongoDb...\n"
     ]
    }
   ],
   "source": [
    "# Inserts a dummy into the database\n",
    "db['dummies'].insert_one(dict({ 'name': 'Adrian' }))\n",
    "\n",
    "# Logs..\n",
    "print('Wrote dummy to MongoDb...')"
   ]
  },
  {
   "cell_type": "code",
   "execution_count": 9,
   "metadata": {},
   "outputs": [
    {
     "name": "stdout",
     "output_type": "stream",
     "text": [
      "{'_id': ObjectId('5b9d4bef229a890016cfa6cf'), 'name': 'Adrian'}\n"
     ]
    }
   ],
   "source": [
    "# Reads dummies from the database\n",
    "dummyCollection = db['dummies']\n",
    "cursor = dummyCollection.find({})\n",
    "for document in cursor:\n",
    "    print(document)"
   ]
  }
 ],
 "metadata": {
  "kernelspec": {
   "display_name": "Python 3",
   "language": "python",
   "name": "python3"
  },
  "language_info": {
   "codemirror_mode": {
    "name": "ipython",
    "version": 3
   },
   "file_extension": ".py",
   "mimetype": "text/x-python",
   "name": "python",
   "nbconvert_exporter": "python",
   "pygments_lexer": "ipython3",
   "version": "3.6.3"
  }
 },
 "nbformat": 4,
 "nbformat_minor": 2
}
